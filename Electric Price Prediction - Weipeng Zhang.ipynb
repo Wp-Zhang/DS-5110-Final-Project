{
  "nbformat": 4,
  "nbformat_minor": 0,
  "metadata": {
    "colab": {
      "name": "Baseline_Weipeng.ipynb",
      "provenance": [],
      "collapsed_sections": [],
      "toc_visible": true
    },
    "interpreter": {
      "hash": "653a9876bfda977334bab0c6eac4e690c97044cb3c76993a10b084536ae29e50"
    },
    "kernelspec": {
      "display_name": "Python 3.8.5 64-bit ('base': conda)",
      "language": "python",
      "name": "python3"
    },
    "language_info": {
      "codemirror_mode": {
        "name": "ipython",
        "version": 3
      },
      "file_extension": ".py",
      "mimetype": "text/x-python",
      "name": "python",
      "nbconvert_exporter": "python",
      "pygments_lexer": "ipython3",
      "version": "3.8.5"
    }
  },
  "cells": [
    {
      "cell_type": "code",
      "metadata": {
        "id": "coZ83MbWpQBl"
      },
      "source": [
        "import pandas as pd\n",
        "import numpy as np\n",
        "import matplotlib.pyplot as plt\n",
        "import seaborn as sns"
      ],
      "execution_count": null,
      "outputs": []
    },
    {
      "cell_type": "code",
      "metadata": {
        "id": "Qe4yjk-pY81x"
      },
      "source": [
        "from sklearn.model_selection import TimeSeriesSplit\n",
        "from sklearn.linear_model import LinearRegression, Ridge, Lasso\n",
        "from sklearn.ensemble import RandomForestRegressor\n",
        "from sklearn.svm import SVR\n",
        "from sklearn.metrics import mean_squared_error\n",
        "from sklearn.preprocessing import StandardScaler, MinMaxScaler\n",
        "from sklearn.feature_selection import RFE, SelectKBest, SelectFromModel, chi2, f_classif"
      ],
      "execution_count": null,
      "outputs": []
    },
    {
      "cell_type": "code",
      "metadata": {
        "colab": {
          "base_uri": "https://localhost:8080/"
        },
        "id": "JnApIv5vlCNM",
        "outputId": "47602bb4-d7d8-4169-8e44-015c6679c373"
      },
      "source": [
        "!pip install catboost"
      ],
      "execution_count": null,
      "outputs": [
        {
          "output_type": "stream",
          "name": "stdout",
          "text": [
            "Collecting catboost\n",
            "  Downloading catboost-1.0.3-cp37-none-manylinux1_x86_64.whl (76.3 MB)\n",
            "\u001b[K     |████████████████████████████████| 76.3 MB 1.3 MB/s \n",
            "\u001b[?25hRequirement already satisfied: pandas>=0.24.0 in /usr/local/lib/python3.7/dist-packages (from catboost) (1.1.5)\n",
            "Requirement already satisfied: scipy in /usr/local/lib/python3.7/dist-packages (from catboost) (1.4.1)\n",
            "Requirement already satisfied: six in /usr/local/lib/python3.7/dist-packages (from catboost) (1.15.0)\n",
            "Requirement already satisfied: plotly in /usr/local/lib/python3.7/dist-packages (from catboost) (4.4.1)\n",
            "Requirement already satisfied: numpy>=1.16.0 in /usr/local/lib/python3.7/dist-packages (from catboost) (1.19.5)\n",
            "Requirement already satisfied: matplotlib in /usr/local/lib/python3.7/dist-packages (from catboost) (3.2.2)\n",
            "Requirement already satisfied: graphviz in /usr/local/lib/python3.7/dist-packages (from catboost) (0.10.1)\n",
            "Requirement already satisfied: python-dateutil>=2.7.3 in /usr/local/lib/python3.7/dist-packages (from pandas>=0.24.0->catboost) (2.8.2)\n",
            "Requirement already satisfied: pytz>=2017.2 in /usr/local/lib/python3.7/dist-packages (from pandas>=0.24.0->catboost) (2018.9)\n",
            "Requirement already satisfied: cycler>=0.10 in /usr/local/lib/python3.7/dist-packages (from matplotlib->catboost) (0.11.0)\n",
            "Requirement already satisfied: pyparsing!=2.0.4,!=2.1.2,!=2.1.6,>=2.0.1 in /usr/local/lib/python3.7/dist-packages (from matplotlib->catboost) (3.0.6)\n",
            "Requirement already satisfied: kiwisolver>=1.0.1 in /usr/local/lib/python3.7/dist-packages (from matplotlib->catboost) (1.3.2)\n",
            "Requirement already satisfied: retrying>=1.3.3 in /usr/local/lib/python3.7/dist-packages (from plotly->catboost) (1.3.3)\n",
            "Installing collected packages: catboost\n",
            "Successfully installed catboost-1.0.3\n"
          ]
        }
      ]
    },
    {
      "cell_type": "code",
      "source": [
        "from tensorflow.keras.layers import Dense, LSTM, Conv1D, MaxPooling1D, TimeDistributed, Flatten, Dropout, RepeatVector\n",
        "import tensorflow as tf"
      ],
      "metadata": {
        "id": "_ue-q8QDGicD"
      },
      "execution_count": null,
      "outputs": []
    },
    {
      "cell_type": "code",
      "metadata": {
        "id": "zb7463jQhrU7"
      },
      "source": [
        "import lightgbm as lgb\n",
        "import xgboost as xgb\n",
        "import catboost as cat"
      ],
      "execution_count": null,
      "outputs": []
    },
    {
      "cell_type": "code",
      "metadata": {
        "id": "nmNf1E4QpQBn"
      },
      "source": [
        "from typing import List\n",
        "from tqdm import tqdm\n",
        "import warnings\n",
        "from google.colab import drive"
      ],
      "execution_count": null,
      "outputs": []
    },
    {
      "cell_type": "code",
      "metadata": {
        "colab": {
          "base_uri": "https://localhost:8080/"
        },
        "id": "HSgNWugmC7_Y",
        "outputId": "71d6e605-9cde-4b81-ee1c-911c6269bddc"
      },
      "source": [
        "drive.mount('/content/drive')\n",
        "pd.set_option(\"display.max_columns\", None)\n",
        "sns.set_style(\"whitegrid\")\n",
        "warnings.filterwarnings('ignore')"
      ],
      "execution_count": null,
      "outputs": [
        {
          "output_type": "stream",
          "name": "stdout",
          "text": [
            "Mounted at /content/drive\n"
          ]
        }
      ]
    },
    {
      "cell_type": "code",
      "metadata": {
        "id": "V6Vb4bk_pQB3"
      },
      "source": [
        "class DataModeler:\n",
        "    def __init__(self):\n",
        "        pass\n",
        "\n",
        "    def _parametrized(dec):\n",
        "        def layer(*args, **kwargs):\n",
        "            def repl(f):\n",
        "                return dec(f, *args, **kwargs)\n",
        "            return repl\n",
        "        return layer\n",
        "\n",
        "    @staticmethod\n",
        "    @_parametrized\n",
        "    def logger(f, job):\n",
        "        def aux(self, *xs, **kws):\n",
        "            print(job + \"...\", end='\\t')\n",
        "            res = f(self, *xs, **kws)\n",
        "            print(\"Done\")\n",
        "            return res\n",
        "        return aux"
      ],
      "execution_count": null,
      "outputs": []
    },
    {
      "cell_type": "code",
      "metadata": {
        "id": "wiiHH58upQB4"
      },
      "source": [
        "class DataPreprocessor(DataModeler):\n",
        "    \"Wrap the operations of data preprocessing.\"\n",
        "    \n",
        "    def __init__(self):\n",
        "        super(DataPreprocessor, self).__init__()\n",
        "\n",
        "    @DataModeler.logger(\"Foramtting feature namne\")\n",
        "    def _format_feat_name(self, df:pd.DataFrame) -> pd.DataFrame:\n",
        "        \"\"\"\n",
        "        Format feature name\n",
        "        @param df: Dataframe\n",
        "        return: precessed dataframe\n",
        "        \"\"\"\n",
        "        d = {x:'_'.join(x.split()) for x in df.columns}\n",
        "        df = df.rename(columns=d)\n",
        "        return df\n",
        "\n",
        "    @DataModeler.logger(\"Filling missing value\")\n",
        "    def _fill_missing_value(self, df:pd.DataFrame) -> pd.DataFrame:\n",
        "        \"\"\"\n",
        "        Fill missing values in input data.\n",
        "        @param df: dataframe\n",
        "        return: processed dataframe\n",
        "        \"\"\"\n",
        "        res = df.fillna(method='ffill')\n",
        "\n",
        "        return res\n",
        "    \n",
        "\n",
        "    @DataModeler.logger(\"Transforming feature type\")\n",
        "    def _trans_feat_type(self, df_energy:pd.DataFrame, df_weather:pd.DataFrame) -> List[pd.DataFrame]:\n",
        "        \"\"\"\n",
        "        Transform data type of some columns.\n",
        "        @param df_energy: energy data\n",
        "        @param df_weather: weather data\n",
        "        return: processed data\n",
        "        \"\"\"\n",
        "        df_energy['time'] = pd.to_datetime(df_energy['time'])\n",
        "        df_weather['time'] = pd.to_datetime(df_weather['time'])\n",
        "\n",
        "        return df_energy, df_weather\n",
        "\n",
        "\n",
        "    @DataModeler.logger(\"Combining weather data\")\n",
        "    def _combine_weather_data(self, df:pd.DataFrame) -> pd.DataFrame:\n",
        "        \"\"\"\n",
        "        Combine weather data from different cities so that \n",
        "            it can be joined on the energy data.\n",
        "        @param df: dataframe\n",
        "        return: processed dataframe\n",
        "        \"\"\"\n",
        "        num_feats = [\n",
        "            'temp', 'temp_min', 'temp_max', 'pressure', 'humidity', \n",
        "            'wind_speed', 'wind_deg', 'rain_1h', 'rain_3h', \n",
        "            'snow_3h', 'clouds_all'\n",
        "        ]\n",
        "        res = df[num_feats+['time']].groupby(['time'], as_index=False).mean()\n",
        "        \n",
        "        return res\n",
        "    \n",
        "    def preprocess(self, df_energy_:pd.DataFrame, df_weather_:pd.DataFrame) -> pd.DataFrame:\n",
        "        \"\"\"\n",
        "        Preprocess energy data and weather data and then join them together.\n",
        "        @param df_energy_: energy data\n",
        "        @param df_weather_: weather data\n",
        "        return: combined clean energy and weather data\n",
        "        \"\"\"\n",
        "        df_energy = df_energy_.copy()\n",
        "        df_weather = df_weather_.copy()\n",
        "        df_weather = df_weather.rename(columns={'dt_iso':'time'})\n",
        "\n",
        "        #* Fill missing value\n",
        "        df_energy = self._fill_missing_value(df_energy)\n",
        "\n",
        "        #* Drop invalid columns\n",
        "        cols_to_drop = ['generation hydro pumped storage aggregated', 'forecast wind offshore eday ahead'] +\\\n",
        "                        ['generation fossil coal-derived gas', 'generation wind offshore', 'generation fossil oil shale', \n",
        "                        'generation fossil peat', 'generation geothermal', 'generation marine']\n",
        "        df_energy = df_energy.drop(cols_to_drop, axis=1)\n",
        "\n",
        "        #* Combine weather data\n",
        "        df_weather = self._combine_weather_data(df_weather)\n",
        "\n",
        "        #* Join energy data and weather data\n",
        "        df = pd.merge(df_energy, df_weather, on=['time'])\n",
        "        df['time'] = pd.to_datetime(df['time'], utc=True)\n",
        "        df = df.sort_values(by='time', ascending=True).reset_index(drop=True)\n",
        "\n",
        "        #* Format feature name\n",
        "        df = self._format_feat_name(df)\n",
        "\n",
        "        df = df.set_index('time')\n",
        "        df['price_tomorrow'] = df['price_actual'].shift(-1, freq='D')\n",
        "        df = df.iloc[:-24]\n",
        "        df = df.reset_index()\n",
        "        return df"
      ],
      "execution_count": null,
      "outputs": []
    },
    {
      "cell_type": "code",
      "metadata": {
        "id": "dVjG8pyipQB5"
      },
      "source": [
        "class FeatureEngineer(DataModeler):\n",
        "    \"Wrap the operations of feature engineering.\"\n",
        "    \n",
        "    def __init__(self):\n",
        "        super(FeatureEngineer, self).__init__()\n",
        "    \n",
        "    @DataModeler.logger(\"Generating date features\")\n",
        "    def _gen_date_feats(self, df:pd.DataFrame) -> pd.DataFrame:\n",
        "        \"\"\"\n",
        "        Extract date features from time of data\n",
        "        @param df: Dataframe\n",
        "        return:  dataframe with new features\n",
        "        \"\"\"\n",
        "        df[\"year\"]=df['time'].dt.year\n",
        "        df[\"quarter\"]=df['time'].dt.quarter\n",
        "        df[\"month\"]=df['time'].dt.month\n",
        "        df[\"week\"]=df['time'].dt.week\n",
        "        df[\"hour\"]=df['time'].dt.hour\n",
        "        df['dayofweek'] = df['time'].dt.dayofweek\n",
        "        df[\"dayofmonth\"]=df['time'].dt.day\n",
        "        df['is_weekend'] = np.where(df['time'].dt.day_name().isin(['Sunday', 'Saturday']), 1,0)\n",
        "        df[\"is_year_start\"]=df['time'].dt.is_year_start\n",
        "\n",
        "        return df\n",
        "\n",
        "    @DataModeler.logger(\"Generating historical features\")\n",
        "    def _gen_his_feats(self, df:pd.DataFrame, cols:List[str], lag_len:int, unit:str='D'):\n",
        "        \"\"\"\n",
        "        Use historical data as new feature.\n",
        "        @param df: Dataframe\n",
        "        @param cols: Columns to be used\n",
        "        @param lag_len: length of lag\n",
        "        @param unit: unit of `lag_len`, default 'D' day\n",
        "        \"\"\"\n",
        "        df = df.set_index('time')\n",
        "        \n",
        "        new_cols = [f'{x}__{lag_len}{unit}_ahead' for x in cols]\n",
        "        df[new_cols] = df[cols].shift(lag_len, freq=unit)\n",
        "        df[new_cols] = df[new_cols].fillna(method='bfill')\n",
        "        \n",
        "        df = df.reset_index()\n",
        "        return df\n",
        "\n",
        "    @DataModeler.logger(\"Generating groupby features\")\n",
        "    def _gen_groupby_feats(self, df:pd.DataFrame, col:str, groupby_cols:List[str], method) -> pd.DataFrame:\n",
        "        \"\"\"\n",
        "        Generate groupby features\n",
        "        @param df: Dataframe\n",
        "        @param col: target column\n",
        "        @param groupby_cols: Categorical features used for groupby\n",
        "        @param method: aggregate method\n",
        "        \"\"\"\n",
        "        df_tmp = df[groupby_cols+[col]].copy()\n",
        "        df_tmp = df_tmp.groupby(groupby_cols,as_index=False)[col].agg([method])\n",
        "        df_tmp = df_tmp.rename(columns={method: '_'.join(groupby_cols)+'__'+ col +'__'+method})\n",
        "        df = pd.merge(df, df_tmp, on=groupby_cols, how='left')\n",
        "        return df\n",
        "\n",
        "    @DataModeler.logger(\"Generating sliding window features\")\n",
        "    def _gen_slide_window_feats(self, df:pd.DataFrame, cols:List[str], width:str) -> pd.DataFrame:\n",
        "        \"\"\"\n",
        "        Use sliding window to generate features\n",
        "        @param df: Dataframe\n",
        "        @param cols: Target columns\n",
        "        @param width: window width, e.g. '2D'\n",
        "        return: dataframe with new features\n",
        "        \"\"\"\n",
        "        df = df.set_index('time')\n",
        "        \n",
        "        new_cols = [f'{x}__{width}_sw' for x in cols]\n",
        "        df[new_cols] = df[cols].rolling(width, min_periods=0, closed='left').mean()\n",
        "        df[new_cols] = df[new_cols].fillna(method='bfill')\n",
        "\n",
        "        df = df.reset_index()\n",
        "        return df\n",
        "\n",
        "    def generate_feats(self, df:pd.DataFrame) -> pd.DataFrame:\n",
        "        \"\"\"\n",
        "        Generate new features.\n",
        "        @param df: dataframe\n",
        "        return: dataframe with new features\n",
        "        \"\"\"\n",
        "        df = self._gen_date_feats(df)\n",
        "\n",
        "        df = self._gen_his_feats(df, ['price_actual'], lag_len=31, unit='D')\n",
        "        df = self._gen_groupby_feats(df, 'price_actual__31D_ahead', ['year', 'month'], 'mean')\n",
        "        df = self._gen_groupby_feats(df, 'price_actual__31D_ahead', ['year', 'month'], 'min')\n",
        "        df = self._gen_groupby_feats(df, 'price_actual__31D_ahead', ['year', 'month'], 'max')\n",
        "        df = self._gen_groupby_feats(df, 'price_actual__31D_ahead', ['year', 'month', 'week'], 'mean')\n",
        "        df = self._gen_groupby_feats(df, 'price_actual__31D_ahead', ['year', 'month', 'week'], 'min')\n",
        "        df = self._gen_groupby_feats(df, 'price_actual__31D_ahead', ['year', 'month', 'week'], 'max')\n",
        "        \n",
        "        df = self._gen_his_feats(df, ['price_actual'], lag_len=7, unit='D')\n",
        "        df = self._gen_groupby_feats(df, 'price_actual__7D_ahead', ['year', 'month'], 'mean')\n",
        "        df = self._gen_groupby_feats(df, 'price_actual__7D_ahead', ['year', 'month'], 'min')\n",
        "        df = self._gen_groupby_feats(df, 'price_actual__7D_ahead', ['year', 'month'], 'max')\n",
        "\n",
        "        df = self._gen_his_feats(df, ['price_actual'], lag_len=1, unit='D')\n",
        "        df = self._gen_his_feats(df, ['price_actual'], lag_len=1, unit='H')\n",
        "\n",
        "        df = self._gen_slide_window_feats(df, ['price_actual'], '1H')\n",
        "        df = self._gen_slide_window_feats(df, ['price_actual'], '6H')\n",
        "        df = self._gen_slide_window_feats(df, ['price_actual'], '12H')\n",
        "        df = self._gen_slide_window_feats(df, ['price_actual'], '1D')\n",
        "        df = self._gen_slide_window_feats(df, ['price_actual'], '7D')\n",
        "        df = self._gen_slide_window_feats(df, ['price_actual'], '3D')\n",
        "        df = self._gen_slide_window_feats(df, ['price_actual'], '7D')\n",
        "        df = self._gen_slide_window_feats(df, ['price_actual'], '14D')\n",
        "        df = self._gen_slide_window_feats(df, ['price_actual'], '31D')\n",
        "        \n",
        "        df = self._gen_slide_window_feats(df, ['temp'], '1H')\n",
        "        df = self._gen_slide_window_feats(df, ['temp'], '6H')\n",
        "        df = self._gen_slide_window_feats(df, ['temp'], '12H')\n",
        "        df = self._gen_slide_window_feats(df, ['temp'], '1D')\n",
        "        df = self._gen_slide_window_feats(df, ['temp'], '7D')\n",
        "        \n",
        "        df = self._gen_slide_window_feats(df, ['pressure'], '1H')\n",
        "        df = self._gen_slide_window_feats(df, ['pressure'], '6H')\n",
        "        df = self._gen_slide_window_feats(df, ['pressure'], '12H')\n",
        "        df = self._gen_slide_window_feats(df, ['pressure'], '1D')\n",
        "        df = self._gen_slide_window_feats(df, ['pressure'], '7D')\n",
        "        \n",
        "        df = self._gen_slide_window_feats(df, ['humidity'], '1H')\n",
        "        df = self._gen_slide_window_feats(df, ['humidity'], '6H')\n",
        "        df = self._gen_slide_window_feats(df, ['humidity'], '12H')\n",
        "        df = self._gen_slide_window_feats(df, ['humidity'], '1D')\n",
        "        df = self._gen_slide_window_feats(df, ['humidity'], '7D')\n",
        "        \n",
        "        df = self._gen_slide_window_feats(df, ['wind_speed'], '1H')\n",
        "        df = self._gen_slide_window_feats(df, ['wind_speed'], '6H')\n",
        "        df = self._gen_slide_window_feats(df, ['wind_speed'], '12H')\n",
        "        df = self._gen_slide_window_feats(df, ['wind_speed'], '1D')\n",
        "        df = self._gen_slide_window_feats(df, ['wind_speed'], '7D')\n",
        "\n",
        "        return df\n",
        "    \n",
        "    @staticmethod\n",
        "    def select_feats(df:pd.DataFrame, feats:List[str], target:str) -> List[str]:\n",
        "        \"\"\"\n",
        "        Select faetures to be trained\n",
        "        @param df: Dataframe\n",
        "        @param feats: All features\n",
        "        @param target: Target column name\n",
        "        return: List of features to be used for training\n",
        "        \"\"\"\n",
        "        drop_l = [\n",
        "            'humidity__12H_sw',\n",
        "            'generation_other',\n",
        "            'year_month__price_actual__31D_ahead__min',\n",
        "            'year_month__price_actual__31D_ahead__mean',\n",
        "            'generation_hydro_pumped_storage_consumption',\n",
        "            'month',\n",
        "            'price_actual__1H_sw',\n",
        "            'humidity__6H_sw',\n",
        "            'generation_hydro_water_reservoir',\n",
        "            'temp_max',\n",
        "            'clouds_all',\n",
        "            'temp__6H_sw',\n",
        "            'humidity',\n",
        "            'wind_deg',\n",
        "            'is_weekend',\n",
        "            'quarter',\n",
        "            'wind_speed',\n",
        "            'temp',\n",
        "            'wind_speed__1H_sw',\n",
        "            'humidity__1H_sw',\n",
        "            'year',\n",
        "            'temp__1H_sw',\n",
        "            'rain_1h',\n",
        "            'temp_min',\n",
        "            'rain_3h',\n",
        "            'snow_3h',\n",
        "            'is_year_start'\n",
        "        ]\n",
        "        res = [x for x in feats if x not in drop_l]\n",
        "\n",
        "        return res"
      ],
      "execution_count": null,
      "outputs": []
    },
    {
      "cell_type": "code",
      "metadata": {
        "id": "qD1lSqpIpQB7"
      },
      "source": [
        "class Learner(DataModeler):\n",
        "    def __init__(self):\n",
        "        super(Learner, self).__init__()\n",
        "\n",
        "        self.model_dict = {\n",
        "            'LR':    {'class':LinearRegression,      'model':[]},\n",
        "            'Ridge': {'class':Ridge,                 'model':[]},\n",
        "            'Lasso': {'class':Lasso,                 'model':[]},\n",
        "            'RF':    {'class':RandomForestRegressor, 'model':[]},\n",
        "            'SVM':   {'class':SVR,                   'model':[]},\n",
        "            'LGB':   {'class':None,                  'model':[]},\n",
        "            'XGB':   {'class':None,                  'model':[]},\n",
        "            'CAT':   {'class':None,                  'model':[]}\n",
        "        }\n",
        "        self.scaler = None\n",
        "    \n",
        "    def _lgb_train(self, train_x:pd.DataFrame, train_y:pd.DataFrame, valid_x:pd.DataFrame, valid_y:pd.DataFrame, params:dict):\n",
        "        \"\"\"\n",
        "        \n",
        "        Train LGB models\n",
        "        @param train_x: training data\n",
        "        @param train_y: training label\n",
        "        @param valid_x: validating data\n",
        "        @param valid_y: validating label\n",
        "        @param params: LGB model parameters\n",
        "        \"\"\"\n",
        "        trn_data = lgb.Dataset(train_x, label=train_y)\n",
        "        val_data = lgb.Dataset(valid_x, label=valid_y)\n",
        "        model = lgb.train(\n",
        "            params, \n",
        "            trn_data, \n",
        "            10000, \n",
        "            valid_sets = [trn_data, val_data], \n",
        "            verbose_eval=500, \n",
        "            early_stopping_rounds = 20\n",
        "        )\n",
        "        valid_pred = model.predict(valid_x, num_iteration=model.best_iteration)\n",
        "\n",
        "        return model, valid_pred\n",
        "    \n",
        "    def _xgb_train(self, train_x:pd.DataFrame, train_y:pd.DataFrame, valid_x:pd.DataFrame, valid_y:pd.DataFrame, params:dict):\n",
        "        \"\"\"\n",
        "        Train XGB models\n",
        "        @param train_x: training data\n",
        "        @param train_y: training label\n",
        "        @param valid_x: validating data\n",
        "        @param valid_y: validating label\n",
        "        @param params: LGB model parameters\n",
        "        \"\"\"\n",
        "        trn_data = xgb.DMatrix(train_x, train_y)\n",
        "        val_data = xgb.DMatrix(valid_x, valid_y)\n",
        "\n",
        "        watchlist = [(trn_data, 'train'), (val_data, 'valid')]\n",
        "        model = xgb.train(dtrain=trn_data, num_boost_round=10000, \n",
        "                        evals=watchlist, early_stopping_rounds=20,\n",
        "                        verbose_eval=500, params=params)\n",
        "\n",
        "    \n",
        "        valid_pred = model.predict(xgb.DMatrix(valid_x), ntree_limit=model.best_ntree_limit)\n",
        "\n",
        "        return model, valid_pred\n",
        "\n",
        "    def _cat_train(self, train_x:pd.DataFrame, train_y:pd.DataFrame, valid_x:pd.DataFrame, valid_y:pd.DataFrame, params:dict):\n",
        "        \"\"\"\n",
        "        Train CatBoost models\n",
        "        @param train_x: training data\n",
        "        @param train_y: training label\n",
        "        @param valid_x: validating data\n",
        "        @param valid_y: validating label\n",
        "        @param params: LGB model parameters\n",
        "        \"\"\"\n",
        "        model = cat.CatBoostRegressor(iterations=20000, **params)\n",
        "        model.fit(\n",
        "            train_x, train_y, \n",
        "            eval_set=(valid_x, valid_y),\n",
        "            # cat_features=cat_feats,\n",
        "            use_best_model=True, \n",
        "            verbose=500\n",
        "        )\n",
        "\n",
        "        valid_pred = model.predict(valid_x)\n",
        "\n",
        "        return model, valid_pred\n",
        "\n",
        "\n",
        "    def train(self, df_:pd.DataFrame, target:str, feats:List[str], nfold:int, model_name:str, model_param:dict, metric_func, val_idx=None):\n",
        "        \"\"\"\n",
        "        Train models\n",
        "        @param df_: trainset\n",
        "        @param target: predicting target column name\n",
        "        @param nfold: cross validation fold number\n",
        "        @param feats: features to be used for training model\n",
        "        @param model_name: model name, must be one of keys in model_dict\n",
        "        @param model_param: model parameter dict\n",
        "        @param metric_func: metric function\n",
        "        @param val_idx: valid set index, if None then choose the last 1/4 data\n",
        "        \"\"\"\n",
        "        assert model_name in self.model_dict.keys(), f\"{model_name} is not supported\"\n",
        "        \n",
        "        metric_l = []\n",
        "        self.model_dict[model_name]['model'] = []\n",
        "\n",
        "        df = df_.copy()\n",
        "        if self.scaler is None:\n",
        "            self.scaler = MinMaxScaler().fit(df[feats])\n",
        "        df[feats] = self.scaler.transform(df[feats])\n",
        "\n",
        "        if val_idx is None:\n",
        "            val_rate = 0.25\n",
        "            train_x = df.iloc[:-int(df.shape[0]*val_rate)][feats]\n",
        "            train_y = df.iloc[:-int(df.shape[0]*val_rate)][target]\n",
        "            valid_x = df.iloc[-int(df.shape[0]*val_rate):][feats]\n",
        "            valid_y = df.iloc[-int(df.shape[0]*val_rate):][target]\n",
        "        else:\n",
        "            train_x = df[~val_idx][feats]\n",
        "            train_y = df[~val_idx][target]\n",
        "            valid_x = df[val_idx][feats]\n",
        "            valid_y = df[val_idx][target]\n",
        "    \n",
        "        if model_name not in ['LGB', 'XGB', 'CAT']:\n",
        "            model = self.model_dict[model_name]['class'](**model_param).fit(train_x, train_y)\n",
        "            valid_pred = model.predict(valid_x)\n",
        "        elif model_name == 'LGB':\n",
        "            model, valid_pred = self._lgb_train(train_x, train_y, valid_x, valid_y, model_param)\n",
        "        elif model_name == 'XGB':\n",
        "            model, valid_pred = self._xgb_train(train_x, train_y, valid_x, valid_y, model_param)\n",
        "        elif model_name == 'CAT':\n",
        "            model, valid_pred = self._cat_train(train_x, train_y, valid_x, valid_y, model_param)\n",
        "        \n",
        "        metric = metric_func(valid_y, valid_pred)\n",
        "        metric_l.append(metric)\n",
        "        self.model_dict[model_name]['model'].append(model)\n",
        "        \n",
        "        print(f\"{model_name} End of training, avg metric: {np.mean(metric_l)}\")\n",
        "    \n",
        "    def _single_predict(self, df:pd.DataFrame, feats:List[str], model_name:str) -> np.array:\n",
        "        \"\"\"\n",
        "        Use single model to predict\n",
        "        @param df: testset\n",
        "        @param feats: features used for training mdoel\n",
        "        @param model_name: model name, must be one of keys in model_dict and has been trained\n",
        "        return: prediction\n",
        "        \"\"\"\n",
        "        pred_l = []\n",
        "        weights = [1]\n",
        "\n",
        "        for i,model in enumerate(self.model_dict[model_name]['model']):\n",
        "            if model_name not in ['LGB', 'XGB', 'CAT']:\n",
        "                pred_l.append((model.predict(df[feats].values) * weights[i]).tolist())\n",
        "            elif model_name == 'LGB':\n",
        "                pred_l.append((model.predict(df[feats].values, num_iteration=model.best_iteration) * weights[i]).tolist())\n",
        "            elif model_name == 'XGB':\n",
        "                pred_l.append((model.predict(xgb.DMatrix(df[feats]), ntree_limit=model.best_ntree_limit) * weights[i]).tolist())\n",
        "            elif model_name == 'CAT':\n",
        "                pred_l.append((model.predict(df[feats]) * weights[i]).tolist())\n",
        "\n",
        "        pred = np.sum(np.array(pred_l), axis=0)\n",
        "        return pred\n",
        "    \n",
        "    def predict(self, df_:pd.DataFrame, feats:List[str], models:List[str]=None, weights:List[float]=None) -> np.array:\n",
        "        \"\"\"\n",
        "        Use all the models that have been trained before to predict\n",
        "        @param df: testset\n",
        "        @param feats: features used for training mdoel\n",
        "        @param models: dict of model names to predict {model_name:weight}, if None then use all models\n",
        "        return: prediction\n",
        "        \"\"\"\n",
        "        df = df_.copy()\n",
        "        df[feats] = self.scaler.transform(df[feats])\n",
        "\n",
        "        if models is not None:\n",
        "            for m in models:\n",
        "                assert m in self.model_dict.keys() and len(self.model_dict[m]['model'])>0, f\"{m} is not trained.\"\n",
        "\n",
        "        pred_l = []\n",
        "        if models is None:\n",
        "            models = [x for x in self.model_dict.keys() if len(self.model_dict[x]['model'])>0]\n",
        "        if weights is None:\n",
        "            weights = [1/len(models) for _ in models] # if model weight is not assigned then avg the model output\n",
        "        \n",
        "        for i,model in tqdm(enumerate(models), \"Predicting\"):\n",
        "            tmp = self._single_predict(df, feats, model) * weights[i]\n",
        "            pred_l.append(tmp.tolist())\n",
        "        \n",
        "        pred = np.sum(np.array(pred_l), axis=0)\n",
        "        return pred"
      ],
      "execution_count": null,
      "outputs": []
    },
    {
      "cell_type": "code",
      "metadata": {
        "id": "zMCglSnEZCKD"
      },
      "source": [
        "# Dataset Link: https://www.kaggle.com/nicholasjhana/energy-consumption-generation-prices-and-weather\n",
        "data_dir = '/content/drive/MyDrive/DS 5110 Final Project/data/'\n",
        "df_energy = pd.read_csv(data_dir + 'energy_dataset.csv')\n",
        "df_weather = pd.read_csv(data_dir + 'weather_features.csv')"
      ],
      "execution_count": null,
      "outputs": []
    },
    {
      "cell_type": "code",
      "metadata": {
        "colab": {
          "base_uri": "https://localhost:8080/"
        },
        "id": "s8V5XKlPpQB4",
        "outputId": "b7be0f56-0e66-45b1-9525-842a8bff90ee"
      },
      "source": [
        "data_preprocessor = DataPreprocessor()\n",
        "df = data_preprocessor.preprocess(df_energy, df_weather)"
      ],
      "execution_count": null,
      "outputs": [
        {
          "output_type": "stream",
          "name": "stdout",
          "text": [
            "Filling missing value...\tDone\n",
            "Combining weather data...\tDone\n",
            "Foramtting feature namne...\tDone\n"
          ]
        }
      ]
    },
    {
      "cell_type": "code",
      "metadata": {
        "colab": {
          "base_uri": "https://localhost:8080/"
        },
        "id": "q_NkVkagpQB5",
        "outputId": "d21bce99-a988-41a4-937f-bf57d4258830"
      },
      "source": [
        "feat_engineer = FeatureEngineer()\n",
        "df = feat_engineer.generate_feats(df)"
      ],
      "execution_count": null,
      "outputs": [
        {
          "output_type": "stream",
          "name": "stdout",
          "text": [
            "Generating date features...\tDone\n",
            "Generating historical features...\tDone\n",
            "Generating groupby features...\tDone\n",
            "Generating groupby features...\tDone\n",
            "Generating groupby features...\tDone\n",
            "Generating groupby features...\tDone\n",
            "Generating groupby features...\tDone\n",
            "Generating groupby features...\tDone\n",
            "Generating historical features...\tDone\n",
            "Generating groupby features...\tDone\n",
            "Generating groupby features...\tDone\n",
            "Generating groupby features...\tDone\n",
            "Generating historical features...\tDone\n",
            "Generating historical features...\tDone\n",
            "Generating sliding window features...\tDone\n",
            "Generating sliding window features...\tDone\n",
            "Generating sliding window features...\tDone\n",
            "Generating sliding window features...\tDone\n",
            "Generating sliding window features...\tDone\n",
            "Generating sliding window features...\tDone\n",
            "Generating sliding window features...\tDone\n",
            "Generating sliding window features...\tDone\n",
            "Generating sliding window features...\tDone\n",
            "Generating sliding window features...\tDone\n",
            "Generating sliding window features...\tDone\n",
            "Generating sliding window features...\tDone\n",
            "Generating sliding window features...\tDone\n",
            "Generating sliding window features...\tDone\n",
            "Generating sliding window features...\tDone\n",
            "Generating sliding window features...\tDone\n",
            "Generating sliding window features...\tDone\n",
            "Generating sliding window features...\tDone\n",
            "Generating sliding window features...\tDone\n",
            "Generating sliding window features...\tDone\n",
            "Generating sliding window features...\tDone\n",
            "Generating sliding window features...\tDone\n",
            "Generating sliding window features...\tDone\n",
            "Generating sliding window features...\tDone\n",
            "Generating sliding window features...\tDone\n",
            "Generating sliding window features...\tDone\n",
            "Generating sliding window features...\tDone\n",
            "Generating sliding window features...\tDone\n",
            "Generating sliding window features...\tDone\n"
          ]
        }
      ]
    },
    {
      "cell_type": "code",
      "metadata": {
        "id": "_AsIZN-HpQB7"
      },
      "source": [
        "drop_feats = ['time', 'forecast_solar_day_ahead', 'forecast_wind_onshore_day_ahead', 'total_load_forecast', 'price_day_ahead', 'price_tomorrow']\n",
        "feats = [x for x in df.columns if x not in drop_feats]\n",
        "\n",
        "target = 'price_tomorrow'"
      ],
      "execution_count": null,
      "outputs": []
    },
    {
      "cell_type": "code",
      "source": [
        "related_feats = FeatureEngineer.select_feats(df, feats, target)"
      ],
      "metadata": {
        "id": "kh6quC2otvNK"
      },
      "execution_count": null,
      "outputs": []
    },
    {
      "cell_type": "code",
      "source": [
        "test_idx = df['time'].dt.year==2018 # & (df['time'].dt.month.apply(lambda x: x in [9,10,11,12]))\n",
        "df_train = df[~test_idx].reset_index(drop=True)\n",
        "df_test = df[test_idx].reset_index(drop=True)"
      ],
      "metadata": {
        "id": "lFcOcJwqtIYm"
      },
      "execution_count": null,
      "outputs": []
    },
    {
      "cell_type": "code",
      "metadata": {
        "id": "m6pyMFoPgarm"
      },
      "source": [
        "# plt.figure(figsize=(30,5))\n",
        "# ax = plt.subplot(111)\n",
        "# sns.lineplot(x='time', y=target, data=df, color='#404040', linewidth = 0.5, ax=ax)\n",
        "# ax.axvline(pd.to_datetime('2017-04-02'), color='orange', lw=2)\n",
        "# ax.axvline(pd.to_datetime('2017-12-31'), color='orange', lw=2)\n",
        "# plt.xlim(pd.to_datetime('2015-01-01'), pd.to_datetime('2018-12-31'))\n",
        "# plt.savefig(data_dir+'price.png', dpi=600)"
      ],
      "execution_count": null,
      "outputs": []
    },
    {
      "cell_type": "code",
      "metadata": {
        "id": "0WgRrtKwhrVG"
      },
      "source": [
        "lgb_params = {\n",
        "    'bagging_freq': 1,\n",
        "    'bagging_fraction': 0.9,\n",
        "    'bagging_seed': 2021,\n",
        "    'boost': 'gbdt',\n",
        "    'feature_fraction': 0.8,\n",
        "    'feature_fraction_seed': 2021,\n",
        "    'learning_rate': 0.001,\n",
        "    'max_depth': 6,  \n",
        "    'metric':'mse',\n",
        "    # 'min_data_in_leaf': 20,\n",
        "    # 'num_leaves': 64,\n",
        "    'objective': 'regression', \n",
        "    \"lambda_l1\": 0.1,\n",
        "    'lambda_l2': 1.\n",
        "}\n",
        "xgb_params = {\n",
        "    'booster':'gbtree',\n",
        "    'objective': 'reg:squarederror',\n",
        "    'gamma':0.1,\n",
        "    'lambda':1.0,\n",
        "    'max_depth':6,\n",
        "    'subsample':0.9,\n",
        "    'colsample_bytree':0.8,\n",
        "    'colsample_bylevel':0.9,\n",
        "    'eta': 0.001,\n",
        "    'seed':2021,\n",
        "    'silent':1,\n",
        "}\n",
        "cat_params = {\n",
        "    'learning_rate': 0.001, \n",
        "    'depth': 6, \n",
        "    'l2_leaf_reg': 1, \n",
        "    'bootstrap_type': 'Bernoulli',\n",
        "    'od_type': 'Iter', \n",
        "    'od_wait': 20,\n",
        "    'random_seed': 2021, \n",
        "    'allow_writing_files': False\n",
        "}"
      ],
      "execution_count": null,
      "outputs": []
    },
    {
      "cell_type": "code",
      "source": [
        "learner = Learner()\n",
        "learner.train(df_train, target, feats, 5, 'LGB', lgb_params, mean_squared_error) # 32.1"
      ],
      "metadata": {
        "colab": {
          "base_uri": "https://localhost:8080/"
        },
        "id": "Zi80-BQr4vtk",
        "outputId": "f03761a2-6651-4c73-a8a3-b095c73afb71"
      },
      "execution_count": null,
      "outputs": [
        {
          "output_type": "stream",
          "name": "stdout",
          "text": [
            "Training until validation scores don't improve for 20 rounds.\n",
            "[500]\ttraining's l2: 120.223\tvalid_1's l2: 62.5124\n",
            "[1000]\ttraining's l2: 71.479\tvalid_1's l2: 44.7288\n",
            "[1500]\ttraining's l2: 50.2624\tvalid_1's l2: 37.4961\n",
            "[2000]\ttraining's l2: 39.6125\tvalid_1's l2: 34.4915\n",
            "[2500]\ttraining's l2: 33.4872\tvalid_1's l2: 33.1098\n",
            "[3000]\ttraining's l2: 29.4641\tvalid_1's l2: 32.3765\n",
            "Early stopping, best iteration is:\n",
            "[3332]\ttraining's l2: 27.431\tvalid_1's l2: 32.1223\n",
            "LGB End of training, avg metric: 32.12234039775199\n"
          ]
        }
      ]
    },
    {
      "cell_type": "code",
      "source": [
        "feature_importance_df = pd.DataFrame()\n",
        "feature_importance_df[\"Feature\"] = feats\n",
        "feature_importance_df[\"importance\"] = learner.model_dict['LGB']['model'][0].feature_importance()\n",
        "feature_importance_df = feature_importance_df.sort_values(by='importance', ascending=False).reset_index(drop=True)"
      ],
      "metadata": {
        "id": "C6ldbGXc51yx"
      },
      "execution_count": null,
      "outputs": []
    },
    {
      "cell_type": "code",
      "source": [
        "feature_importance_df[feature_importance_df.index>=50]['Feature'].values.tolist()"
      ],
      "metadata": {
        "colab": {
          "base_uri": "https://localhost:8080/"
        },
        "id": "ebyukaii561Y",
        "outputId": "6a271c20-cc6b-4f63-bf1c-ce0c11dfecb8"
      },
      "execution_count": null,
      "outputs": [
        {
          "output_type": "execute_result",
          "data": {
            "text/plain": [
              "['humidity__12H_sw',\n",
              " 'generation_other',\n",
              " 'year_month__price_actual__31D_ahead__min',\n",
              " 'year_month__price_actual__31D_ahead__mean',\n",
              " 'generation_hydro_pumped_storage_consumption',\n",
              " 'month',\n",
              " 'price_actual__1H_sw',\n",
              " 'humidity__6H_sw',\n",
              " 'generation_hydro_water_reservoir',\n",
              " 'temp_max',\n",
              " 'clouds_all',\n",
              " 'temp__6H_sw',\n",
              " 'humidity',\n",
              " 'wind_deg',\n",
              " 'is_weekend',\n",
              " 'quarter',\n",
              " 'wind_speed',\n",
              " 'temp',\n",
              " 'wind_speed__1H_sw',\n",
              " 'humidity__1H_sw',\n",
              " 'year',\n",
              " 'temp__1H_sw',\n",
              " 'rain_1h',\n",
              " 'temp_min',\n",
              " 'rain_3h',\n",
              " 'snow_3h',\n",
              " 'is_year_start']"
            ]
          },
          "metadata": {},
          "execution_count": 126
        }
      ]
    },
    {
      "cell_type": "code",
      "metadata": {
        "colab": {
          "base_uri": "https://localhost:8080/"
        },
        "id": "S6LoIr4spQB9",
        "outputId": "f1e8859c-35ca-48fe-f5c2-245340fc6798"
      },
      "source": [
        "learner = Learner()\n",
        "learner.train(df_train, target, related_feats, 5, 'LR', {}, mean_squared_error) # 43.9\n",
        "learner.train(df_train, target, related_feats, 5, 'Ridge', {'alpha':0.05}, mean_squared_error) # 43.8\n",
        "learner.train(df_train, target, related_feats, 5, 'Lasso', {'alpha':0.05}, mean_squared_error) # 39.8\n",
        "learner.train(df_train, target, related_feats, 5, 'RF', {}, mean_squared_error) # 34\n",
        "learner.train(df_train, target, related_feats, 5, 'LGB', lgb_params, mean_squared_error) # 32.1\n",
        "learner.train(df_train, target, related_feats, 5, 'XGB', xgb_params, mean_squared_error) # 31.6\n",
        "learner.train(df_train, target, related_feats, 5, 'CAT', cat_params, mean_squared_error) # 31.2"
      ],
      "execution_count": null,
      "outputs": [
        {
          "output_type": "stream",
          "name": "stdout",
          "text": [
            "LR End of training, avg metric: 41.329093039715545\n",
            "Ridge End of training, avg metric: 41.316420987698926\n",
            "Lasso End of training, avg metric: 41.63496761073375\n",
            "RF End of training, avg metric: 33.80721811965177\n",
            "Training until validation scores don't improve for 20 rounds.\n",
            "[500]\ttraining's l2: 120.087\tvalid_1's l2: 62.5104\n",
            "[1000]\ttraining's l2: 71.4131\tvalid_1's l2: 44.6443\n",
            "[1500]\ttraining's l2: 50.207\tvalid_1's l2: 37.4091\n",
            "[2000]\ttraining's l2: 39.5898\tvalid_1's l2: 34.4032\n",
            "[2500]\ttraining's l2: 33.4855\tvalid_1's l2: 33.0699\n",
            "[3000]\ttraining's l2: 29.4656\tvalid_1's l2: 32.3972\n",
            "Early stopping, best iteration is:\n",
            "[3179]\ttraining's l2: 28.322\tvalid_1's l2: 32.2459\n",
            "LGB End of training, avg metric: 32.24591339461331\n",
            "[0]\ttrain-rmse:56.9408\tvalid-rmse:58.2484\n",
            "Multiple eval metrics have been passed: 'valid-rmse' will be used for early stopping.\n",
            "\n",
            "Will train until valid-rmse hasn't improved in 20 rounds.\n",
            "[500]\ttrain-rmse:34.9853\tvalid-rmse:35.7492\n",
            "[1000]\ttrain-rmse:21.7953\tvalid-rmse:22.2666\n",
            "[1500]\ttrain-rmse:13.9805\tvalid-rmse:14.3566\n",
            "[2000]\ttrain-rmse:9.47118\tvalid-rmse:9.8976\n",
            "[2500]\ttrain-rmse:6.96436\tvalid-rmse:7.59002\n",
            "[3000]\ttrain-rmse:5.62838\tvalid-rmse:6.49444\n",
            "[3500]\ttrain-rmse:4.91713\tvalid-rmse:6.02056\n",
            "[4000]\ttrain-rmse:4.51155\tvalid-rmse:5.81809\n",
            "[4500]\ttrain-rmse:4.2442\tvalid-rmse:5.72129\n",
            "[5000]\ttrain-rmse:4.05249\tvalid-rmse:5.67039\n",
            "[5500]\ttrain-rmse:3.90495\tvalid-rmse:5.64309\n",
            "Stopping. Best iteration:\n",
            "[5952]\ttrain-rmse:3.79479\tvalid-rmse:5.63018\n",
            "\n",
            "XGB End of training, avg metric: 31.698944737818977\n",
            "0:\tlearn: 15.4740169\ttest: 10.4260284\tbest: 10.4260284 (0)\ttotal: 17.5ms\tremaining: 5m 49s\n",
            "500:\tlearn: 11.5130036\ttest: 8.1378397\tbest: 8.1378397 (500)\ttotal: 7.43s\tremaining: 4m 49s\n",
            "1000:\tlearn: 9.2056884\ttest: 6.9052230\tbest: 6.9052230 (1000)\ttotal: 14.9s\tremaining: 4m 43s\n",
            "1500:\tlearn: 7.9108615\ttest: 6.3086325\tbest: 6.3086325 (1500)\ttotal: 22.2s\tremaining: 4m 34s\n",
            "2000:\tlearn: 7.1892755\ttest: 6.0243461\tbest: 6.0243461 (2000)\ttotal: 29.5s\tremaining: 4m 25s\n",
            "2500:\tlearn: 6.7640788\ttest: 5.8844810\tbest: 5.8844810 (2500)\ttotal: 36.8s\tremaining: 4m 17s\n",
            "3000:\tlearn: 6.4826302\ttest: 5.7977986\tbest: 5.7977986 (3000)\ttotal: 44s\tremaining: 4m 9s\n",
            "3500:\tlearn: 6.2700479\ttest: 5.7419326\tbest: 5.7419326 (3500)\ttotal: 51.2s\tremaining: 4m 1s\n",
            "4000:\tlearn: 6.0957979\ttest: 5.6979230\tbest: 5.6979230 (4000)\ttotal: 58.4s\tremaining: 3m 53s\n",
            "Stopped by overfitting detector  (20 iterations wait)\n",
            "\n",
            "bestTest = 5.667074021\n",
            "bestIteration = 4450\n",
            "\n",
            "Shrink model to first 4451 iterations.\n",
            "CAT End of training, avg metric: 32.11572797069984\n"
          ]
        }
      ]
    },
    {
      "cell_type": "code",
      "metadata": {
        "colab": {
          "base_uri": "https://localhost:8080/"
        },
        "id": "B92vLxQzolb6",
        "outputId": "b4087b9a-e35c-4f5e-b9de-32792af51d2d"
      },
      "source": [
        "lr_pred = learner.predict(df_test, related_feats, ['LR']) # 6.98271560973388\n",
        "print(mean_squared_error(df_test[target], lr_pred, squared=False))\n",
        "ridge_pred = learner.predict(df_test, related_feats, ['Ridge']) # 6.98271560973388\n",
        "print(mean_squared_error(df_test[target], ridge_pred, squared=False))\n",
        "lasso_pred = learner.predict(df_test, related_feats, ['Lasso']) # 6.98271560973388\n",
        "print(mean_squared_error(df_test[target], lasso_pred, squared=False))\n",
        "rf_pred = learner.predict(df_test, related_feats, ['RF']) # 6.98271560973388\n",
        "print(mean_squared_error(df_test[target], rf_pred, squared=False))\n",
        "lgb_pred = learner.predict(df_test, related_feats, ['LGB']) # 6.98271560973388\n",
        "print(mean_squared_error(df_test[target], lgb_pred, squared=False))\n",
        "xgb_pred = learner.predict(df_test, related_feats, ['XGB']) # 6.393915538872442\n",
        "print(mean_squared_error(df_test[target], xgb_pred, squared=False))\n",
        "cat_pred = learner.predict(df_test, related_feats, ['CAT']) # 6.393915538872442\n",
        "print(mean_squared_error(df_test[target], cat_pred, squared=False))"
      ],
      "execution_count": null,
      "outputs": [
        {
          "output_type": "stream",
          "name": "stderr",
          "text": [
            "Predicting: 1it [00:00, 86.88it/s]\n"
          ]
        },
        {
          "output_type": "stream",
          "name": "stdout",
          "text": [
            "7.00886016095152\n"
          ]
        },
        {
          "output_type": "stream",
          "name": "stderr",
          "text": [
            "Predicting: 1it [00:00, 88.99it/s]\n"
          ]
        },
        {
          "output_type": "stream",
          "name": "stdout",
          "text": [
            "7.006245377352049\n"
          ]
        },
        {
          "output_type": "stream",
          "name": "stderr",
          "text": [
            "Predicting: 1it [00:00, 96.72it/s]\n"
          ]
        },
        {
          "output_type": "stream",
          "name": "stdout",
          "text": [
            "6.762260238548195\n"
          ]
        },
        {
          "output_type": "stream",
          "name": "stderr",
          "text": [
            "Predicting: 1it [00:00,  4.06it/s]\n"
          ]
        },
        {
          "output_type": "stream",
          "name": "stdout",
          "text": [
            "6.471711162865071\n"
          ]
        },
        {
          "output_type": "stream",
          "name": "stderr",
          "text": [
            "Predicting: 1it [00:01,  1.73s/it]\n"
          ]
        },
        {
          "output_type": "stream",
          "name": "stdout",
          "text": [
            "6.272915974433108\n"
          ]
        },
        {
          "output_type": "stream",
          "name": "stderr",
          "text": [
            "Predicting: 1it [00:04,  4.05s/it]\n"
          ]
        },
        {
          "output_type": "stream",
          "name": "stdout",
          "text": [
            "6.432455147833062\n"
          ]
        },
        {
          "output_type": "stream",
          "name": "stderr",
          "text": [
            "Predicting: 1it [00:00, 16.26it/s]"
          ]
        },
        {
          "output_type": "stream",
          "name": "stdout",
          "text": [
            "6.201253128364621\n"
          ]
        },
        {
          "output_type": "stream",
          "name": "stderr",
          "text": [
            "\n"
          ]
        }
      ]
    },
    {
      "cell_type": "code",
      "metadata": {
        "colab": {
          "base_uri": "https://localhost:8080/"
        },
        "id": "cPc_qbSrpQB-",
        "outputId": "c85995d8-770c-4999-d1c1-df9530ef89af"
      },
      "source": [
        "pred = learner.predict(df_test, related_feats, ['LR','Ridge','Lasso','RF'])\n",
        "mean_squared_error(df_test[target], pred, squared=False)"
      ],
      "execution_count": null,
      "outputs": [
        {
          "output_type": "stream",
          "name": "stderr",
          "text": [
            "Predicting: 4it [00:00, 13.28it/s]\n"
          ]
        },
        {
          "output_type": "execute_result",
          "data": {
            "text/plain": [
              "6.366028471931358"
            ]
          },
          "metadata": {},
          "execution_count": 135
        }
      ]
    },
    {
      "cell_type": "code",
      "metadata": {
        "colab": {
          "base_uri": "https://localhost:8080/"
        },
        "id": "znJsvNCNhrVK",
        "outputId": "74697321-e0ce-4794-da02-5378cdc683f4"
      },
      "source": [
        "pred = learner.predict(df_test, related_feats, ['LGB','XGB','CAT','LR','Ridge','Lasso','RF'], [0.15, 0.15, 0.2, 0.125, 0.125, 0.125, 0.125])\n",
        "mean_squared_error(df_test[target], pred, squared=False) # 6.08"
      ],
      "execution_count": null,
      "outputs": [
        {
          "output_type": "stream",
          "name": "stderr",
          "text": [
            "Predicting: 7it [00:06,  1.14it/s]\n"
          ]
        },
        {
          "output_type": "execute_result",
          "data": {
            "text/plain": [
              "6.118972388436285"
            ]
          },
          "metadata": {},
          "execution_count": 138
        }
      ]
    },
    {
      "cell_type": "code",
      "metadata": {
        "colab": {
          "background_save": true
        },
        "id": "T2q26qYHhrVK",
        "outputId": "eda5ca37-099c-4fdb-b496-39367f7c68b6"
      },
      "source": [
        "mean_squared_error(df_test[target], np.ones_like(df_test[target].values) * np.mean(df_train[target]), squared=False)"
      ],
      "execution_count": null,
      "outputs": [
        {
          "data": {
            "text/plain": [
              "14.20246244284816"
            ]
          },
          "execution_count": null,
          "metadata": {},
          "output_type": "execute_result"
        }
      ]
    },
    {
      "cell_type": "code",
      "metadata": {
        "id": "niFjb_PChrVL",
        "colab": {
          "base_uri": "https://localhost:8080/",
          "height": 303
        },
        "outputId": "9c268ff1-2721-4220-ca7a-2ea8c104c2ef"
      },
      "source": [
        "plt.figure(figsize=(7.5,5))\n",
        "ax = plt.subplot(111)\n",
        "sns.lineplot(x=df_test['time'].values, y=df_test[target].values, label='True', ax=ax, color='#404040',linewidth = 0.4)\n",
        "sns.lineplot(x=df_test['time'].values, y=pred, label='Pred', ax=ax, color='orange',linewidth = 0.4)\n",
        "plt.xlim(pd.to_datetime('2018-01-01'), pd.to_datetime('2018-12-31'))\n",
        "ax.set(xticklabels=[])\n",
        "ax.set(yticklabels=[])\n",
        "plt.savefig(data_dir+'pred.png',dpi=600)"
      ],
      "execution_count": null,
      "outputs": [
        {
          "output_type": "display_data",
          "data": {
            "image/png": "[encoded data removed]",
            "text/plain": [
              "<Figure size 540x360 with 1 Axes>"
            ]
          },
          "metadata": {}
        }
      ]
    },
    {
      "cell_type": "code",
      "metadata": {
        "id": "O9Bi9646hrVL"
      },
      "source": [
        "pd.options.display.max_rows = None\n",
        "feature_importance_df = pd.DataFrame()\n",
        "feature_importance_df[\"Feature\"] = feats\n",
        "feature_importance_df[\"importance\"] = learner.model_dict['LGB']['model'][0].feature_importance()\n",
        "feature_importance_df = feature_importance_df.sort_values(by='importance', ascending=False)\n",
        "feature_importance_df"
      ],
      "execution_count": null,
      "outputs": []
    }
  ]
}